{
 "cells": [
  {
   "cell_type": "markdown",
   "id": "858b3ea7",
   "metadata": {},
   "source": [
    "# Problem-2"
   ]
  },
  {
   "cell_type": "code",
   "execution_count": 139,
   "id": "8765ff5c",
   "metadata": {},
   "outputs": [
    {
     "name": "stdout",
     "output_type": "stream",
     "text": [
      "            SUMMARY\n",
      "0       hello world\n",
      "1        XXXXX test\n",
      "2  123four five six\n"
     ]
    }
   ],
   "source": [
    "import pandas as pd\n",
    "import re\n",
    "\n",
    "# Define the dictionary\n",
    "data = {'SUMMARY': ['hello, world!', 'XXXXX test', '123four, five:; six...']}\n",
    "\n",
    "# Create a DataFrame\n",
    "df = pd.DataFrame(data)\n",
    "\n",
    "# Function to clean the SUMMARY column\n",
    "def clean_summary(summary):\n",
    "    # Remove non-word characters except spaces\n",
    "    cleaned_summary = re.sub(r'[^\\w\\s]', '', summary)\n",
    "    return cleaned_summary.strip()  # Strip leading and trailing spaces\n",
    "\n",
    "# Apply the cleaning function to the SUMMARY column\n",
    "df['SUMMARY'] = df['SUMMARY'].apply(clean_summary)\n",
    "\n",
    "# Display the cleaned DataFrame\n",
    "print(df)\n"
   ]
  },
  {
   "cell_type": "markdown",
   "id": "cb9d9774",
   "metadata": {},
   "source": [
    "# Problem-1"
   ]
  },
  {
   "cell_type": "code",
   "execution_count": 140,
   "id": "a91703d4",
   "metadata": {},
   "outputs": [
    {
     "name": "stdout",
     "output_type": "stream",
     "text": [
      "Origional Text:\n",
      "Python Exercises, PHP exercises.\n",
      "\n",
      "Text with space, comma, and dot replaced with colon using regex:\n",
      "Python:Exercises::PHP:exercises:\n"
     ]
    }
   ],
   "source": [
    "def replace_space_comma_dot_with_colon(input_string):\n",
    "    # Regular expression pattern to match space, comma, or dot\n",
    "    pattern = r'[ ,.]'\n",
    "    \n",
    "    # Replace matched pattern with colon\n",
    "    modified_string = re.sub(pattern, ':', input_string)\n",
    "    return modified_string\n",
    "\n",
    "# Sample text\n",
    "sample_text = \"Python Exercises, PHP exercises.\"\n",
    "\n",
    "# Replace space, comma, and dot with colon in the sample text\n",
    "modified_text = replace_space_comma_dot_with_colon(sample_text)\n",
    "\n",
    "# Print the result\n",
    "print(\"Origional Text:\")\n",
    "print(sample_text)\n",
    "print(\"\\nText with space, comma, and dot replaced with colon using regex:\")\n",
    "print(modified_text)"
   ]
  },
  {
   "cell_type": "markdown",
   "id": "6181076b",
   "metadata": {},
   "source": [
    "# Problem-3"
   ]
  },
  {
   "cell_type": "code",
   "execution_count": 20,
   "id": "2b1dc224",
   "metadata": {},
   "outputs": [
    {
     "name": "stdout",
     "output_type": "stream",
     "text": [
      "Long words in the string: ['This', 'string', 'with', 'some', 'words', 'varying', 'lengths', 'like', 'hello', 'world', 'beautiful']\n"
     ]
    }
   ],
   "source": [
    "import re\n",
    "def find_long_words(input_string):\n",
    "    pattern = re.compile(r'\\b\\w{4,}\\b')\n",
    "    long_words = pattern.findall(input_string)\n",
    "    return long_words\n",
    "\n",
    "# Test the function\n",
    "input_string = \"This is a string with some words of varying lengths like hello, world and beautiful.\"\n",
    "long_words = find_long_words(input_string)\n",
    "print(\"Long words in the string:\", long_words)"
   ]
  },
  {
   "cell_type": "markdown",
   "id": "dd8bcd20",
   "metadata": {},
   "source": [
    "# Problem-4"
   ]
  },
  {
   "cell_type": "code",
   "execution_count": 21,
   "id": "4b763fd0",
   "metadata": {},
   "outputs": [
    {
     "name": "stdout",
     "output_type": "stream",
     "text": [
      "Words of length 3, 4 or 5 in the string: ['This', 'with', 'some', 'words', 'like', 'hello', 'world', 'and']\n"
     ]
    }
   ],
   "source": [
    "import re\n",
    "def find_words_of_length(input_string):\n",
    "    pattern = re.compile(r'\\b\\w{3,5}\\b')\n",
    "    matched_words = pattern.findall(input_string)\n",
    "    return matched_words\n",
    "\n",
    "# Test the function\n",
    "input_string = \"This is a string with some words of varying lengths like hello, world and beautiful.\"\n",
    "matched_words = find_words_of_length(input_string)\n",
    "print(\"Words of length 3, 4 or 5 in the string:\", matched_words)"
   ]
  },
  {
   "cell_type": "markdown",
   "id": "bc3d8522",
   "metadata": {},
   "source": [
    "# Problem-5"
   ]
  },
  {
   "cell_type": "code",
   "execution_count": 24,
   "id": "437dc10c",
   "metadata": {},
   "outputs": [
    {
     "name": "stdout",
     "output_type": "stream",
     "text": [
      "Strings after removing parentheses:\n",
      "example\n",
      "hr@fliprobo\n",
      "github\n",
      "Hello\n",
      "Data\n"
     ]
    }
   ],
   "source": [
    "import re\n",
    "\n",
    "def remove_parenthesis(strings_list):\n",
    "    # Compile a regex pattern to match parentheses and their contents\n",
    "    pattern = re.compile(r'\\s*\\([^)]*\\)\\s*')\n",
    "    \n",
    "    # Remove parentheses from each string using list comprehension\n",
    "    cleaned_strings = [pattern.sub('', s) for s in strings_list]\n",
    "    \n",
    "    return cleaned_strings\n",
    "\n",
    "# Test the function with the sample text\n",
    "strings_list = [\"example (.com)\", \"hr@fliprobo (.com)\", \"github (.com)\", \"Hello (Data Science World)\", \"Data (Scientist)\"]\n",
    "cleaned_strings = remove_parenthesis(strings_list)\n",
    "print(\"Strings after removing parentheses:\")\n",
    "for string in cleaned_strings:\n",
    "    print(string)\n"
   ]
  },
  {
   "cell_type": "markdown",
   "id": "bc6ec5bc",
   "metadata": {},
   "source": [
    "# Problem-7"
   ]
  },
  {
   "cell_type": "code",
   "execution_count": 29,
   "id": "88906dbd",
   "metadata": {},
   "outputs": [
    {
     "name": "stdout",
     "output_type": "stream",
     "text": [
      "Uppercase letters: IOREIP\n"
     ]
    }
   ],
   "source": [
    "import re\n",
    "def split_uppercase(input_String):\n",
    "    # Define the regex pattern to match uppercase letters\n",
    "    pattern = r'[A-Z]'\n",
    "    \n",
    "    # Use the re.findall to split the string based on the pattern\n",
    "    uppercase_letters = re.findall(pattern, input_string)\n",
    "    \n",
    "    # Join the uppercase letters into a string\n",
    "    uppercase_string = ''.join(uppercase_letters)\n",
    "    return uppercase_string\n",
    "\n",
    "# Test the function with the sample text\n",
    "input_string = \"ImportanceOfRegularExpressionsInPython\"\n",
    "uppercase_string = split_uppercase(input_string)\n",
    "print(\"Uppercase letters:\", uppercase_string)\n",
    "    "
   ]
  },
  {
   "cell_type": "markdown",
   "id": "824d8674",
   "metadata": {},
   "source": [
    "# Problem-8"
   ]
  },
  {
   "cell_type": "code",
   "execution_count": 30,
   "id": "ec9a51a5",
   "metadata": {},
   "outputs": [
    {
     "name": "stdout",
     "output_type": "stream",
     "text": [
      "Text with spaces between words starting with numbers:\n",
      "RegularExpression1 IsAn2 ImportantTopic3 InPython\n"
     ]
    }
   ],
   "source": [
    "import re\n",
    "def insert_spaces_between_numbers(text):\n",
    "    # Define the regex pattern to find words starting with numbers\n",
    "    pattern = re.compile(r'(?<=\\d)(?=\\D)')\n",
    "    \n",
    "    # Insert space between words starting with numbers\n",
    "    spaced_text = pattern.sub(' ', text)\n",
    "    return spaced_text\n",
    "\n",
    "# Test the function with the sample text\n",
    "sample_text = \"RegularExpression1IsAn2ImportantTopic3InPython\"\n",
    "spaced_text = insert_spaces_between_numbers(sample_text)\n",
    "print(\"Text with spaces between words starting with numbers:\")\n",
    "print(spaced_text)"
   ]
  },
  {
   "cell_type": "markdown",
   "id": "d08c8159",
   "metadata": {},
   "source": [
    "# Problem-11"
   ]
  },
  {
   "cell_type": "code",
   "execution_count": 150,
   "id": "f41d3f96",
   "metadata": {},
   "outputs": [
    {
     "name": "stdout",
     "output_type": "stream",
     "text": [
      "The string 'Hello_World123' matches the pattern.\n",
      "The string '123_ABC' matches the pattern.\n",
      "The string 'some-text' does not match the pattern.\n",
      "The string 'Alphanumeric_123' matches the pattern.\n",
      "The string 'abcXYZ789_' matches the pattern.\n",
      "The string 'abc!123' does not match the pattern.\n",
      "The string 'underscore_is_allowed_' matches the pattern.\n",
      "The string '  leading_and_trailing_spaces_not_allowed  ' does not match the pattern.\n"
     ]
    }
   ],
   "source": [
    "import re\n",
    "\n",
    "def match_alphanumeric_underscore(input_string):\n",
    "    # Define the regular expression pattern\n",
    "    pattern = r'^[a-zA-Z0-9_]+$'\n",
    "    \n",
    "    # Use re.match() to check if the entire string matches the pattern\n",
    "    match = re.match(pattern, input_string)\n",
    "    \n",
    "    if match:\n",
    "        print(f\"The string '{input_string}' matches the pattern.\")\n",
    "    else:\n",
    "        print(f\"The string '{input_string}' does not match the pattern.\")\n",
    "\n",
    "# Test cases\n",
    "strings_to_check = [\n",
    "    \"Hello_World123\",\n",
    "    \"123_ABC\",\n",
    "    \"some-text\",\n",
    "    \"Alphanumeric_123\",\n",
    "    \"abcXYZ789_\",\n",
    "    \"abc!123\",\n",
    "    \"underscore_is_allowed_\",\n",
    "    \"  leading_and_trailing_spaces_not_allowed  \"\n",
    "]\n",
    "\n",
    "# Check each string against the pattern\n",
    "for string in strings_to_check:\n",
    "    match_alphanumeric_underscore(string)\n"
   ]
  },
  {
   "cell_type": "markdown",
   "id": "a767ae82",
   "metadata": {},
   "source": [
    "# Problem-12"
   ]
  },
  {
   "cell_type": "code",
   "execution_count": 41,
   "id": "7260b4c0",
   "metadata": {},
   "outputs": [
    {
     "name": "stdout",
     "output_type": "stream",
     "text": [
      "'123abc' does NOT start with '456'.\n",
      "'456xyz' does NOT start with '456'.\n",
      "'789' does NOT start with '456'.\n",
      "'456def' does NOT start with '456'.\n",
      "'abc123' does NOT start with '456'.\n",
      "'456abc123' does NOT start with '456'.\n"
     ]
    }
   ],
   "source": [
    "import re\n",
    "\n",
    "def starts_with_number(input_string, number):\n",
    "    # Construct the regex pattern to match the specific number at the start\n",
    "    pattern = re.compile(r'^' + re.escape(number) + r'\\b.*')\n",
    "    \n",
    "    # Use re.match() to check if the input string matches the pattern\n",
    "    if re.match(pattern, input_string):\n",
    "        return True\n",
    "    else:\n",
    "        return False\n",
    "\n",
    "# Test cases\n",
    "test_strings = [\n",
    "    \"123abc\",\n",
    "    \"456xyz\",\n",
    "    \"789\",\n",
    "    \"456def\",\n",
    "    \"abc123\",\n",
    "    \"456abc123\"\n",
    "]\n",
    "\n",
    "number_to_check = \"456\"\n",
    "\n",
    "for string in test_strings:\n",
    "    if starts_with_number(string, number_to_check):\n",
    "        print(f\"'{string}' starts with '{number_to_check}'.\")\n",
    "    else:\n",
    "        print(f\"'{string}' does NOT start with '{number_to_check}'.\")\n"
   ]
  },
  {
   "cell_type": "markdown",
   "id": "530b0a9c",
   "metadata": {},
   "source": [
    "# Problem-13"
   ]
  },
  {
   "cell_type": "code",
   "execution_count": 42,
   "id": "fd333dc1",
   "metadata": {},
   "outputs": [
    {
     "name": "stdout",
     "output_type": "stream",
     "text": [
      "Origional IP: 192.168.001.001 => Stripped IP: 192.168.1.1\n",
      "Origional IP: 010.010.010.010 => Stripped IP: 10.10.10.10\n",
      "Origional IP: 255.000.100.001 => Stripped IP: 255.0.100.1\n",
      "Origional IP: 000.000.000.001 => Stripped IP: 0.0.0.1\n"
     ]
    }
   ],
   "source": [
    "def remove_leading_zeroes(ip_address):\n",
    "    # Split the IP address into its components\n",
    "    components = ip_address.split('.')\n",
    "    \n",
    "    # Remove leading zeros from each component\n",
    "    stripped_components = [str(int(comp)) for comp in components]\n",
    "    \n",
    "    # Join the components back into an IP address string\n",
    "    stripped_ip = '.'.join(stripped_components)\n",
    "    \n",
    "    return stripped_ip\n",
    "\n",
    "# Test the function with sample IP addresses\n",
    "ip_addresses = [\n",
    "    \"192.168.001.001\",\n",
    "    \"010.010.010.010\",\n",
    "    \"255.000.100.001\",\n",
    "    \"000.000.000.001\"\n",
    "]\n",
    "\n",
    "for ip in ip_addresses:\n",
    "    stripped_ip = remove_leading_zeroes(ip)\n",
    "    print(f\"Origional IP: {ip} => Stripped IP: {stripped_ip}\")\n",
    "    \n",
    "    "
   ]
  },
  {
   "cell_type": "markdown",
   "id": "822983b9",
   "metadata": {},
   "source": [
    "# Problem-14"
   ]
  },
  {
   "cell_type": "code",
   "execution_count": 46,
   "id": "2b872484",
   "metadata": {},
   "outputs": [
    {
     "name": "stdout",
     "output_type": "stream",
     "text": [
      "Extracted Date: ('August 15th 1947', 'th')\n"
     ]
    }
   ],
   "source": [
    "import re\n",
    "\n",
    "def extract_date_from_text(text):\n",
    "    # Define the regex pattern to match the date format\n",
    "    pattern = re.compile(r'([A-Z][a-z]+ \\d{1,2}(th|st|nd|rd)? \\d{4})')\n",
    "    \n",
    "    # Use findall to extract all matching dates from the text\n",
    "    matches = re.findall(pattern, text)\n",
    "    \n",
    "    # Since we expect exactly one match in this case, return the first match\n",
    "    if matches:\n",
    "        return matches [0]\n",
    "    else:\n",
    "        return None\n",
    "\n",
    "# Sample text containing the date\n",
    "sample_text = \"On August 15th 1947 that India was declared independent from British colonialism, and the reins of control were handed over to the leaders of the Country.\"\n",
    "\n",
    "# Call the function to extract the date from the sample text\n",
    "extracted_date = extract_date_from_text(sample_text)\n",
    "\n",
    "# Print the extracted date\n",
    "if extracted_date:\n",
    "    print(\"Extracted Date:\", extracted_date)\n",
    "else:\n",
    "    print(\"No date matching the pattern found in the text.\")\n"
   ]
  },
  {
   "cell_type": "markdown",
   "id": "98582ba5",
   "metadata": {},
   "source": [
    "# Problem-15"
   ]
  },
  {
   "cell_type": "code",
   "execution_count": 53,
   "id": "a67eea57",
   "metadata": {},
   "outputs": [
    {
     "name": "stdout",
     "output_type": "stream",
     "text": [
      "Found words: ['fox', 'dog']\n"
     ]
    }
   ],
   "source": [
    "def search_literals(sample_text, searched_words):\n",
    "    found_words = []\n",
    "    for word in searched_words:\n",
    "        if word in sample_text:\n",
    "            found_words.append(word)\n",
    "    return found_words\n",
    "\n",
    "# Sample text\n",
    "sample_text = 'The quick brown fox jumps over the lazy dog.'\n",
    "\n",
    "# Words to search for\n",
    "searched_words = ['fox', 'dog', 'horse']\n",
    "\n",
    "# Search for the words in the sample text\n",
    "found_words = search_literals(sample_text, searched_words)\n",
    "\n",
    "# Print the found words\n",
    "if found_words:\n",
    "    print(\"Found words:\", found_words)\n",
    "else:\n",
    "    print(\"No words found.\")\n"
   ]
  },
  {
   "cell_type": "markdown",
   "id": "e8af6d8e",
   "metadata": {},
   "source": [
    "# Problem-16"
   ]
  },
  {
   "cell_type": "code",
   "execution_count": 65,
   "id": "5ada3cb2",
   "metadata": {},
   "outputs": [
    {
     "name": "stdout",
     "output_type": "stream",
     "text": [
      "'fox' found at positions: [16]\n"
     ]
    }
   ],
   "source": [
    "def search_literal_and_location(sample_text, searched_word):\n",
    "    found_locations = []\n",
    "    index = sample_text.find(searched_word)\n",
    "    while index != -1:\n",
    "        found_locations.append(index)\n",
    "        index = sample_text.find(searched_word, index + 1)\n",
    "    return found_locations\n",
    "\n",
    "# Sample text\n",
    "sample_text = 'The quick brown fox jumps over the lazy dog.'\n",
    "\n",
    "# Word to search for\n",
    "searched_word = 'fox'\n",
    "\n",
    "# Search for the word in the sample text and find its locations\n",
    "found_locations = search_literal_and_location(sample_text, searched_word)\n",
    "\n",
    "# Print the results\n",
    "if found_locations:\n",
    "    print(f\"'{searched_word}' found at positions:\", found_locations)\n",
    "else:\n",
    "    print(f\"'{searched_word}' not found in the text.\")\n"
   ]
  },
  {
   "cell_type": "markdown",
   "id": "a9c51590",
   "metadata": {},
   "source": [
    "# Problem-17"
   ]
  },
  {
   "cell_type": "code",
   "execution_count": 147,
   "id": "bfafa04f",
   "metadata": {},
   "outputs": [
    {
     "name": "stdout",
     "output_type": "stream",
     "text": [
      "'exercises' found at position: 7\n",
      "'exercises' found at position: 22\n",
      "'exercises' found at position: 36\n",
      "'Python' found at position: 0\n",
      "'PHP' found at position: 18\n"
     ]
    }
   ],
   "source": [
    "def find_substring_occurrences(sample_text, substring):\n",
    "    occurrences = []\n",
    "    start = 0\n",
    "    while True:\n",
    "        start = sample_text.find(substring, start)\n",
    "        if start == -1:\n",
    "            break\n",
    "        occurrences.append((substring, start))\n",
    "        start += 1\n",
    "    return occurrences\n",
    "\n",
    "# Sample text\n",
    "sample_text = 'Python exercises, PHP exercises, C# exercises'\n",
    "\n",
    "# Substrings to search for\n",
    "substrings = ['exercises', 'Python', 'PHP']\n",
    "\n",
    "# Find occurrences and positions of each substring\n",
    "all_occurrences = []\n",
    "for substring in substrings:\n",
    "    occurrences = find_substring_occurrences(sample_text, substring)\n",
    "    all_occurrences.extend(occurrences)\n",
    "\n",
    "# Print the results\n",
    "if all_occurrences:\n",
    "    for substring, position in all_occurrences:\n",
    "        print(f\"'{substring}' found at position:\", position)\n",
    "else:\n",
    "    print(\"No substrings found in the text.\")\n"
   ]
  },
  {
   "cell_type": "markdown",
   "id": "f127a5de",
   "metadata": {},
   "source": [
    "# Problem-19"
   ]
  },
  {
   "cell_type": "code",
   "execution_count": 87,
   "id": "0f22c792",
   "metadata": {},
   "outputs": [
    {
     "name": "stdout",
     "output_type": "stream",
     "text": [
      "Original date (yyyy-mm-dd): 2023-07-04\n",
      "converted date (dd-mm-yyyy): 04-07-2023\n"
     ]
    }
   ],
   "source": [
    "def convert_date_format(date_str):\n",
    "    # Split the date string by '-'\n",
    "    parts = date_str.split('-')\n",
    "    \n",
    "    # Rearrange the parts to form the new date string\n",
    "    new_date_str = f\"{parts[2]}-{parts[1]}-{parts[0]}\"\n",
    "    return new_date_str\n",
    "\n",
    "# Input date in yyyy-mm-dd format\n",
    "date_in_yyyy_mm_dd = '2023-07-04'\n",
    "\n",
    "# Convert the date format\n",
    "date_in_dd_mm_yyyy = convert_date_format(date_in_yyyy_mm_dd)\n",
    "\n",
    "# Print the result\n",
    "print(f\"Original date (yyyy-mm-dd): {date_in_yyyy_mm_dd}\")\n",
    "print(f\"converted date (dd-mm-yyyy): {date_in_dd_mm_yyyy}\")"
   ]
  },
  {
   "cell_type": "markdown",
   "id": "445b4d50",
   "metadata": {},
   "source": [
    "# Problem-21"
   ]
  },
  {
   "cell_type": "code",
   "execution_count": 91,
   "id": "caab9ef1",
   "metadata": {},
   "outputs": [
    {
     "name": "stdout",
     "output_type": "stream",
     "text": [
      "Number '123' found at position: 6\n",
      "Number '456' found at position: 17\n",
      "Number '789' found at position: 27\n"
     ]
    }
   ],
   "source": [
    "import re\n",
    "def find_numbers_with_positions(input_string):\n",
    "    # Compile a regex pattern to find all numeric substrings\n",
    "    pattern = re.compile(r'\\d+')\n",
    "    \n",
    "    # Find all matches of numeric substrings in the input string\n",
    "    matches = pattern.finditer(input_string)\n",
    "    \n",
    "    # Store numbers and their positions in a list of tuples\n",
    "    numbers_with_positions = [(match.group(), match.start()) for match in matches]\n",
    "    \n",
    "    return numbers_with_positions\n",
    "# Sample input string\n",
    "input_string = 'Hello 123 Python 456 World 789'\n",
    "\n",
    "# Find numbers with their positions\n",
    "result = find_numbers_with_positions(input_string)\n",
    "\n",
    "# Print the result\n",
    "if result:\n",
    "    for number, position in result:\n",
    "        print(f\"Number '{number}' found at position: {position}\")\n",
    "else:\n",
    "    print(\"No numbers found in the string.\")"
   ]
  },
  {
   "cell_type": "markdown",
   "id": "ac4220e2",
   "metadata": {},
   "source": [
    "# Problem-22"
   ]
  },
  {
   "cell_type": "code",
   "execution_count": 99,
   "id": "b64325d6",
   "metadata": {},
   "outputs": [
    {
     "name": "stdout",
     "output_type": "stream",
     "text": [
      "The maximum number in the text is: 950\n"
     ]
    }
   ],
   "source": [
    "import re\n",
    "\n",
    "def extract_maximum_number(sample_text):\n",
    "    \n",
    "    # Regular expression to find all numeric substrings\n",
    "    pattern = r'\\d+'\n",
    "    \n",
    "    # Find all matches of numeric substrings in the sample text\n",
    "    numbers = re.findall(pattern, sample_text)\n",
    "    \n",
    "    # Convert the numeric substrings to integers and find the maximum value\n",
    "    if numbers:\n",
    "        max_number = max(int(num) for num in numbers)\n",
    "        return max_number\n",
    "    else:\n",
    "        return None\n",
    "    \n",
    "# Sample text\n",
    "sample_text = 'My marks in each semester are: 947, 896, 926, 524, 734, 950, 642'\n",
    "    \n",
    "# Extract maximum number\n",
    "max_number = extract_maximum_number(sample_text)\n",
    "    \n",
    "# Print the result\n",
    "if max_number is not None:\n",
    "    print(f\"The maximum number in the text is: {max_number}\")\n",
    "else:\n",
    "    print(\"No numeric values found in the text.\")\n",
    "        "
   ]
  },
  {
   "cell_type": "markdown",
   "id": "02de4e84",
   "metadata": {},
   "source": [
    "# Problem-23"
   ]
  },
  {
   "cell_type": "code",
   "execution_count": 103,
   "id": "b70c65b1",
   "metadata": {},
   "outputs": [
    {
     "name": "stdout",
     "output_type": "stream",
     "text": [
      "Origional Text:\n",
      "RegularExpressionIsAnImportantTopicInPython\n",
      "\n",
      "Text with spaces insert before capitals:\n",
      "Regular Expression Is An Important Topic In Python\n"
     ]
    }
   ],
   "source": [
    "import re\n",
    "def insert_spaces_before_capitals(input_string):\n",
    "    # Use regular expression to insert space before capital letters\n",
    "    modified_string = re.sub(r'([a-z])([A-Z])', r'\\1 \\2', input_string)\n",
    "    return modified_string\n",
    "\n",
    "# Sample text\n",
    "sample_text = \"RegularExpressionIsAnImportantTopicInPython\"\n",
    "\n",
    "# Insert spaces before capital letters\n",
    "formatted_text = insert_spaces_before_capitals(sample_text)\n",
    "\n",
    "# Print the result\n",
    "print(\"Origional Text:\")\n",
    "print(sample_text)\n",
    "print(\"\\nText with spaces insert before capitals:\")\n",
    "print(formatted_text)\n"
   ]
  },
  {
   "cell_type": "markdown",
   "id": "5ce8e379",
   "metadata": {},
   "source": [
    "# Problem-24"
   ]
  },
  {
   "cell_type": "code",
   "execution_count": 104,
   "id": "6886d40c",
   "metadata": {},
   "outputs": [
    {
     "name": "stdout",
     "output_type": "stream",
     "text": [
      "Sequences of one uppercase letter followed by lowercase letters:\n",
      "['Regular', 'Expression', 'Is', 'An', 'Important', 'Topic', 'In', 'Python']\n"
     ]
    }
   ],
   "source": [
    "import re\n",
    "def find_uppercase_lowercase_sequences(input_string):\n",
    "    pattern = r'[A-Z][a-z]+'\n",
    "    sequences = re.findall(pattern, input_string)\n",
    "    return sequences\n",
    "\n",
    "# Sample text\n",
    "sample_text = \"RegularExpressionIsAnImportantTopicInPython\"\n",
    "\n",
    "# Find sequences of one uppercase letter followed by lowercase letters\n",
    "result = find_uppercase_lowercase_sequences(sample_text)\n",
    "\n",
    "# Print the result\n",
    "print(\"Sequences of one uppercase letter followed by lowercase letters:\")\n",
    "print(result)"
   ]
  },
  {
   "cell_type": "markdown",
   "id": "257228e4",
   "metadata": {},
   "source": [
    "# Problem-25"
   ]
  },
  {
   "cell_type": "code",
   "execution_count": 108,
   "id": "cfaa7f99",
   "metadata": {},
   "outputs": [
    {
     "name": "stdout",
     "output_type": "stream",
     "text": [
      "Origional Text:\n",
      "hello hello world world\n",
      "\n",
      "Text with continuous duplicate words removed:\n",
      "hello world\n"
     ]
    }
   ],
   "source": [
    "import re\n",
    "\n",
    "def remove_continous_duplicates(sentence):\n",
    "    # Use regular expression to remove continuous duplicate words\n",
    "    cleaned_sentence = re.sub(r'\\b(\\w+)( \\1\\b)+', r'\\1', sentence, flags=re.IGNORECASE)\n",
    "    return cleaned_sentence\n",
    "\n",
    "# Sample text\n",
    "sample_text = \"hello hello world world\"\n",
    "\n",
    "# Remove continuous duplicate words\n",
    "cleaned_text = remove_continuous_duplicates(sample_text)\n",
    "\n",
    "# Print the result\n",
    "print(\"Origional Text:\")\n",
    "print(sample_text)\n",
    "print(\"\\nText with continuous duplicate words removed:\")\n",
    "print(cleaned_text)"
   ]
  },
  {
   "cell_type": "markdown",
   "id": "a630275a",
   "metadata": {},
   "source": [
    "# Problem-26"
   ]
  },
  {
   "cell_type": "code",
   "execution_count": 122,
   "id": "520aa435",
   "metadata": {},
   "outputs": [
    {
     "name": "stdout",
     "output_type": "stream",
     "text": [
      "'Hello123' ends with an alphanumeric character.\n",
      "'World!' does not end with an alphanumeric character.\n",
      "'12345' ends with an alphanumeric character.\n",
      "'Python3!' does not end with an alphanumeric character.\n",
      "'GoodMorning7' ends with an alphanumeric character.\n"
     ]
    }
   ],
   "source": [
    "import re\n",
    "\n",
    "def ends_with_alphanumeric(input_string):\n",
    "    pattern = r'^.*[a-zA-Z0-9]$'  \n",
    "    \n",
    "    # Regular expression pattern to match string ending with alphanumeric character\n",
    "    if re.match(pattern, input_string):\n",
    "        return True\n",
    "    else:\n",
    "        return False\n",
    "\n",
    "# Test cases\n",
    "test_strings = [\n",
    "    \"Hello123\",     # Ends with alphanumeric character\n",
    "    \"World!\",       # Does not end with alphanumeric character\n",
    "    \"12345\",        # Ends with alphanumeric character\n",
    "    \"Python3!\",     # Does not end with alphanumeric character\n",
    "    \"GoodMorning7\"  # Ends with alphanumeric character\n",
    "]\n",
    "\n",
    "# Check each test string\n",
    "for test_string in test_strings:\n",
    "    if ends_with_alphanumeric(test_string):\n",
    "        print(f\"'{test_string}' ends with an alphanumeric character.\")\n",
    "    else:\n",
    "        print(f\"'{test_string}' does not end with an alphanumeric character.\")\n"
   ]
  },
  {
   "cell_type": "markdown",
   "id": "0dcbafed",
   "metadata": {},
   "source": [
    "# Problem-27"
   ]
  },
  {
   "cell_type": "code",
   "execution_count": 130,
   "id": "5effabb0",
   "metadata": {},
   "outputs": [
    {
     "name": "stdout",
     "output_type": "stream",
     "text": [
      "Extracted Hashtags:\n",
      "['#Doltiwal', '#xyzabc', '#Demonetization']\n"
     ]
    }
   ],
   "source": [
    "import re\n",
    "\n",
    "def extract_hashtags(sample_text):\n",
    "    # Regular expression pattern to find hashtags\n",
    "    pattern = r'#\\w+'\n",
    "    \n",
    "    # Find all hashtags in the sample text\n",
    "    hashtags = re.findall(pattern, sample_text)\n",
    "    \n",
    "    return hashtags\n",
    "\n",
    "\n",
    "# Sample text\n",
    "sample_text = \"\"\"RT @kapil_kausik: #Doltiwal I mean #xyzabc is \"hurt\" by #Demonetization as the same has rendered USELESS<ed><U+00A0><U+00BD><U+00B1><U+0089\"acquired funds\"No wo\"\"\"\n",
    "\n",
    "# Extract hashtags from the sample text\n",
    "hashtags = extract_hashtags(sample_text)\n",
    "\n",
    "# Print the result\n",
    "print(\"Extracted Hashtags:\")\n",
    "print(hashtags)\n"
   ]
  },
  {
   "cell_type": "markdown",
   "id": "c1683611",
   "metadata": {},
   "source": [
    "# Problem-30"
   ]
  },
  {
   "cell_type": "code",
   "execution_count": 135,
   "id": "29b6e0ee",
   "metadata": {},
   "outputs": [
    {
     "name": "stdout",
     "output_type": "stream",
     "text": [
      "Origional Text:\n",
      "The following example creates an ArrayList with a capacity of 50 elements. 4 elements are then added to the ArrayList and the ArrayList is trimmed accordingly.\n",
      "\n",
      "Text with words of length between 2 and 4 removed:\n",
      " following example creates  ArrayList  a capacity   elements. 4 elements   added   ArrayList   ArrayList  trimmed accordingly.\n"
     ]
    }
   ],
   "source": [
    "import re\n",
    "\n",
    "def removed_words_of_length_between_2_and_4(input_string):\n",
    "    # Compile a regex pattern to match words of length between 2 and 4\n",
    "    pattern = re.compile(r'\\b\\w{2,4}\\b')\n",
    "    \n",
    "    # Replace matched words with an empty string\n",
    "    modified_string = pattern.sub('', input_string)\n",
    "    \n",
    "    return modified_string\n",
    "\n",
    "# Sample text\n",
    "sample_text = \"The following example creates an ArrayList with a capacity of 50 elements. 4 elements are then added to the ArrayList and the ArrayList is trimmed accordingly.\"\n",
    "\n",
    "# Remove words of length between 2 and 4 from the sample text\n",
    "cleaned_text = remove_words_of_length_between_2_and_4(sample_text)\n",
    "\n",
    "# Print the result\n",
    "print(\"Origional Text:\")\n",
    "print(sample_text)\n",
    "print(\"\\nText with words of length between 2 and 4 removed:\")\n",
    "print(cleaned_text)"
   ]
  },
  {
   "cell_type": "markdown",
   "id": "53a47517",
   "metadata": {},
   "source": [
    "# Problem-28"
   ]
  },
  {
   "cell_type": "code",
   "execution_count": 136,
   "id": "e52ef4d9",
   "metadata": {},
   "outputs": [
    {
     "name": "stdout",
     "output_type": "stream",
     "text": [
      "Original Text:\n",
      "@Jags123456 Bharat band on 28??<ed><U+00A><U+00BD><ed><U+00B8><U+0082>Those who are protesting #demonetization are all different party leaders\n",
      "\n",
      "Text with <U+..> symbols removed:\n",
      "@Jags123456 Bharat band on 28??<ed><ed>Those who are protesting #demonetization are all different party leaders\n"
     ]
    }
   ],
   "source": [
    "import re\n",
    "\n",
    "def remove_unicode_symbols(input_string):\n",
    "    # Regular expression pattern to match <U+..> symbols\n",
    "    pattern = r'<U\\+[0-9A-Fa-f]+>'\n",
    "    \n",
    "    # Replace matched patterns with an empty string\n",
    "    cleaned_string = re.sub(pattern, '', input_string)\n",
    "    \n",
    "    return cleaned_string\n",
    "\n",
    "# Sample text\n",
    "sample_text = \"@Jags123456 Bharat band on 28??<ed><U+00A><U+00BD><ed><U+00B8><U+0082>Those who are protesting #demonetization are all different party leaders\"\n",
    "\n",
    "# Remove <U+..> symbols from the sample text\n",
    "cleaned_text = remove_unicode_symbols(sample_text)\n",
    "\n",
    "# Print the result\n",
    "print(\"Original Text:\")\n",
    "print(sample_text)\n",
    "print(\"\\nText with <U+..> symbols removed:\")\n",
    "print(cleaned_text)\n"
   ]
  },
  {
   "cell_type": "code",
   "execution_count": null,
   "id": "fbc1100e",
   "metadata": {},
   "outputs": [],
   "source": []
  }
 ],
 "metadata": {
  "kernelspec": {
   "display_name": "Python 3 (ipykernel)",
   "language": "python",
   "name": "python3"
  },
  "language_info": {
   "codemirror_mode": {
    "name": "ipython",
    "version": 3
   },
   "file_extension": ".py",
   "mimetype": "text/x-python",
   "name": "python",
   "nbconvert_exporter": "python",
   "pygments_lexer": "ipython3",
   "version": "3.11.5"
  }
 },
 "nbformat": 4,
 "nbformat_minor": 5
}
